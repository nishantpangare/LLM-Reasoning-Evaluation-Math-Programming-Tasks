{
 "cells": [
  {
   "cell_type": "code",
   "execution_count": 1,
   "id": "79a1780a",
   "metadata": {},
   "outputs": [
    {
     "name": "stdout",
     "output_type": "stream",
     "text": [
      "Math Greedy Accuracy: 0.3\n",
      "Math Majority Accuracy: 0.4\n",
      "Programming Greedy Success: 0.0\n",
      "Programming Majority Success: 0.0\n"
     ]
    }
   ],
   "source": [
    "import pandas as pd\n",
    "\n",
    "math_df = pd.read_csv(\"math_results.csv\")\n",
    "prog_df = pd.read_csv(\"programming_results.csv\")\n",
    "\n",
    "print(\"Math Greedy Accuracy:\", math_df[\"greedy_correct\"].mean())\n",
    "print(\"Math Majority Accuracy:\", math_df[\"majority_correct\"].mean())\n",
    "\n",
    "print(\"Programming Greedy Success:\", prog_df[\"greedy_ok\"].mean())\n",
    "print(\"Programming Majority Success:\", prog_df[\"majority_ok\"].mean())\n"
   ]
  }
 ],
 "metadata": {
  "kernelspec": {
   "display_name": ".env",
   "language": "python",
   "name": "python3"
  },
  "language_info": {
   "codemirror_mode": {
    "name": "ipython",
    "version": 3
   },
   "file_extension": ".py",
   "mimetype": "text/x-python",
   "name": "python",
   "nbconvert_exporter": "python",
   "pygments_lexer": "ipython3",
   "version": "3.13.7"
  }
 },
 "nbformat": 4,
 "nbformat_minor": 5
}
